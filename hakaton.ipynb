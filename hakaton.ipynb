{
 "cells": [
  {
   "cell_type": "code",
   "execution_count": 3,
   "id": "6ff3d862",
   "metadata": {},
   "outputs": [],
   "source": [
    "import csv\n",
    "import  pandas as  pd"
   ]
  },
  {
   "cell_type": "code",
   "execution_count": 5,
   "id": "4b726643",
   "metadata": {},
   "outputs": [
    {
     "data": {
      "text/html": [
       "<div>\n",
       "<style scoped>\n",
       "    .dataframe tbody tr th:only-of-type {\n",
       "        vertical-align: middle;\n",
       "    }\n",
       "\n",
       "    .dataframe tbody tr th {\n",
       "        vertical-align: top;\n",
       "    }\n",
       "\n",
       "    .dataframe thead th {\n",
       "        text-align: right;\n",
       "    }\n",
       "</style>\n",
       "<table border=\"1\" class=\"dataframe\">\n",
       "  <thead>\n",
       "    <tr style=\"text-align: right;\">\n",
       "      <th></th>\n",
       "      <th>ingredient</th>\n",
       "      <th>amount</th>\n",
       "      <th>name</th>\n",
       "      <th>type</th>\n",
       "      <th>page</th>\n",
       "    </tr>\n",
       "    <tr>\n",
       "      <th>id</th>\n",
       "      <th></th>\n",
       "      <th></th>\n",
       "      <th></th>\n",
       "      <th></th>\n",
       "      <th></th>\n",
       "    </tr>\n",
       "  </thead>\n",
       "  <tbody>\n",
       "    <tr>\n",
       "      <th>13411</th>\n",
       "      <td>Вода</td>\n",
       "      <td>1 л</td>\n",
       "      <td>kapusta-po-gruzinski-137009</td>\n",
       "      <td>zagotovki</td>\n",
       "      <td>1</td>\n",
       "    </tr>\n",
       "    <tr>\n",
       "      <th>13410</th>\n",
       "      <td>Сахар</td>\n",
       "      <td>90 г</td>\n",
       "      <td>kapusta-po-gruzinski-137009</td>\n",
       "      <td>zagotovki</td>\n",
       "      <td>1</td>\n",
       "    </tr>\n",
       "    <tr>\n",
       "      <th>13421</th>\n",
       "      <td>Соль</td>\n",
       "      <td>12 г</td>\n",
       "      <td>kapusta-po-gruzinski-137009</td>\n",
       "      <td>zagotovki</td>\n",
       "      <td>1</td>\n",
       "    </tr>\n",
       "    <tr>\n",
       "      <th>14585</th>\n",
       "      <td>Уксус 9%-ный</td>\n",
       "      <td>250 мл</td>\n",
       "      <td>kapusta-po-gruzinski-137009</td>\n",
       "      <td>zagotovki</td>\n",
       "      <td>1</td>\n",
       "    </tr>\n",
       "    <tr>\n",
       "      <th>13436</th>\n",
       "      <td>Белокочанная капуста</td>\n",
       "      <td>1 штука</td>\n",
       "      <td>kapusta-po-gruzinski-137009</td>\n",
       "      <td>zagotovki</td>\n",
       "      <td>1</td>\n",
       "    </tr>\n",
       "  </tbody>\n",
       "</table>\n",
       "</div>"
      ],
      "text/plain": [
       "                 ingredient   amount                         name       type  \\\n",
       "id                                                                             \n",
       "13411                  Вода      1 л  kapusta-po-gruzinski-137009  zagotovki   \n",
       "13410                 Сахар     90 г  kapusta-po-gruzinski-137009  zagotovki   \n",
       "13421                  Соль     12 г  kapusta-po-gruzinski-137009  zagotovki   \n",
       "14585          Уксус 9%-ный   250 мл  kapusta-po-gruzinski-137009  zagotovki   \n",
       "13436  Белокочанная капуста  1 штука  kapusta-po-gruzinski-137009  zagotovki   \n",
       "\n",
       "       page  \n",
       "id           \n",
       "13411     1  \n",
       "13410     1  \n",
       "13421     1  \n",
       "14585     1  \n",
       "13436     1  "
      ]
     },
     "execution_count": 5,
     "metadata": {},
     "output_type": "execute_result"
    }
   ],
   "source": [
    "data = pd.read_csv('ingredients_from_eda.ru.csv', delimiter=',')\n",
    "data = data.set_index('id')\n",
    "# data = data.transpose()\n",
    "data = data.fillna('None')\n",
    "data = pd.DataFrame(data)\n",
    "data.head()"
   ]
  },
  {
   "cell_type": "code",
   "execution_count": 26,
   "id": "79893e5a",
   "metadata": {},
   "outputs": [],
   "source": [
    "with open('ingredients_from_eda.ru.csv', newline='', encoding='utf-8') as f:\n",
    "    reader = csv.DictReader(f)\n",
    "    data = []\n",
    "    for row in reader:\n",
    "        data.append(row)"
   ]
  },
  {
   "cell_type": "code",
   "execution_count": 28,
   "id": "7ffc3eda",
   "metadata": {},
   "outputs": [
    {
     "data": {
      "text/plain": [
       "[{'id': '13411',\n",
       "  'ingredient': 'Вода',\n",
       "  'amount': '1 л',\n",
       "  'name': 'kapusta-po-gruzinski-137009',\n",
       "  'type': 'zagotovki',\n",
       "  'page': '1'},\n",
       " {'id': '13410',\n",
       "  'ingredient': 'Сахар',\n",
       "  'amount': '90 г',\n",
       "  'name': 'kapusta-po-gruzinski-137009',\n",
       "  'type': 'zagotovki',\n",
       "  'page': '1'}]"
      ]
     },
     "execution_count": 28,
     "metadata": {},
     "output_type": "execute_result"
    }
   ],
   "source": [
    "data[:2]"
   ]
  },
  {
   "cell_type": "code",
   "execution_count": 55,
   "id": "8334f33b",
   "metadata": {},
   "outputs": [
    {
     "data": {
      "text/plain": [
       "1159675"
      ]
     },
     "execution_count": 55,
     "metadata": {},
     "output_type": "execute_result"
    }
   ],
   "source": [
    "len(data)"
   ]
  },
  {
   "cell_type": "code",
   "execution_count": 59,
   "id": "af727b91",
   "metadata": {},
   "outputs": [],
   "source": [
    "def find_recipes(ingr): # пользователь вводит продукты (через пробел с большой буквы)\n",
    "    ingr_dict = dict.fromkeys(ingr.split(), [])\n",
    "    for i in data:\n",
    "        if i['ingredient'] in ingr_dict.keys() and i['name'] not in ingr_dict[i['ingredient']]:\n",
    "            ingr_dict[i['ingredient']].append(i['name'])\n",
    "    return ingr_dict"
   ]
  },
  {
   "cell_type": "code",
   "execution_count": 103,
   "id": "9bec598e",
   "metadata": {},
   "outputs": [],
   "source": [
    "def find_unique(ingr_dict):\n",
    "    all_rec = []\n",
    "    result = []\n",
    "    for i in dict.values(ingr_dict):\n",
    "        all_rec.extend(i)\n",
    "    for r in all_rec:\n",
    "        if all_rec.count(r) == len(dict.keys(ingr_dict)):\n",
    "            result.append(r)\n",
    "    result_str = ''\n",
    "    for i in result:\n",
    "        result_str += i + '\\n'\n",
    "    with open('found_recipes.txt', 'w', encoding='utf-8') as f:\n",
    "        f.write(result_str)\n",
    "    return result"
   ]
  },
  {
   "cell_type": "code",
   "execution_count": 104,
   "id": "68dec6dc",
   "metadata": {},
   "outputs": [
    {
     "data": {
      "text/plain": [
       "['kapusta-po-gruzinski-137009',\n",
       " 'arbuznyy-med-137117',\n",
       " 'marinovannye-opyata-94048',\n",
       " 'solenye-ogurcy-po-babushkinomu-receptu-138520',\n",
       " 'klubnichnoe-varene-s-chernym-percem-137029',\n",
       " 'tushenka-iz-svininy-138553',\n",
       " 'varene-iz-abrikosov-s-kostochkami-vnutri-138522',\n",
       " 'oblepiha-protertaya-s-saharom-93943',\n",
       " 'marinovannye-belye-griby-138557',\n",
       " 'kapusta-po-gruzinski-137009',\n",
       " 'arbuznyy-med-137117',\n",
       " 'marinovannye-opyata-94048',\n",
       " 'solenye-ogurcy-po-babushkinomu-receptu-138520',\n",
       " 'klubnichnoe-varene-s-chernym-percem-137029',\n",
       " 'tushenka-iz-svininy-138553',\n",
       " 'varene-iz-abrikosov-s-kostochkami-vnutri-138522',\n",
       " 'oblepiha-protertaya-s-saharom-93943',\n",
       " 'marinovannye-belye-griby-138557']"
      ]
     },
     "execution_count": 104,
     "metadata": {},
     "output_type": "execute_result"
    }
   ],
   "source": [
    "find_unique(find_recipes('Вода Сахар'))"
   ]
  },
  {
   "cell_type": "code",
   "execution_count": 105,
   "id": "35e1fe63",
   "metadata": {},
   "outputs": [
    {
     "name": "stdout",
     "output_type": "stream",
     "text": [
      "kapusta-po-gruzinski-137009\n",
      "arbuznyy-med-137117\n",
      "marinovannye-opyata-94048\n",
      "solenye-ogurcy-po-babushkinomu-receptu-138520\n",
      "klubnichnoe-varene-s-chernym-percem-137029\n",
      "tushenka-iz-svininy-138553\n",
      "varene-iz-abrikosov-s-kostochkami-vnutri-138522\n",
      "oblepiha-protertaya-s-saharom-93943\n",
      "marinovannye-belye-griby-138557\n",
      "kapusta-po-gruzinski-137009\n",
      "arbuznyy-med-137117\n",
      "marinovannye-opyata-94048\n",
      "solenye-ogurcy-po-babushkinomu-receptu-138520\n",
      "klubnichnoe-varene-s-chernym-percem-137029\n",
      "tushenka-iz-svininy-138553\n",
      "varene-iz-abrikosov-s-kostochkami-vnutri-138522\n",
      "oblepiha-protertaya-s-saharom-93943\n",
      "marinovannye-belye-griby-138557\n",
      "\n"
     ]
    }
   ],
   "source": [
    "with open('found_recipes.txt', 'r', encoding='utf-8') as f:\n",
    "        text = f.read()\n",
    "        print(text)"
   ]
  },
  {
   "cell_type": "code",
   "execution_count": 79,
   "id": "528e4554",
   "metadata": {},
   "outputs": [],
   "source": [
    "def find_ingr(name): # название ингредиента с заглавной буквы\n",
    "    recipes_lst = []\n",
    "    for i in data:\n",
    "        if i['ingredient'] == name and i['name'] not in recipes_lst:\n",
    "            recipes_lst.append(i['name'])\n",
    "    return recipes_lst"
   ]
  },
  {
   "cell_type": "code",
   "execution_count": 81,
   "id": "50fee5a7",
   "metadata": {},
   "outputs": [
    {
     "data": {
      "text/plain": [
       "['kapusta-po-gruzinski-137009',\n",
       " 'arbuznyy-med-137117',\n",
       " 'marinovannye-opyata-94048',\n",
       " 'solenye-ogurcy-po-babushkinomu-receptu-138520',\n",
       " 'klubnichnoe-varene-s-chernym-percem-137029',\n",
       " 'tushenka-iz-svininy-138553',\n",
       " 'marinovannye-belye-griby-138557',\n",
       " 'lecho-s-pomidorami-93941',\n",
       " 'malinovyy-dzhem-s-yablochnym-sokom-bez-varki-93942',\n",
       " 'pomidory-marinovannye-s-dushistym-percem-93944']"
      ]
     },
     "execution_count": 81,
     "metadata": {},
     "output_type": "execute_result"
    }
   ],
   "source": [
    "find_ingr(\"Уксус\")[:10]"
   ]
  },
  {
   "cell_type": "code",
   "execution_count": null,
   "id": "c9798a71",
   "metadata": {},
   "outputs": [],
   "source": []
  }
 ],
 "metadata": {
  "kernelspec": {
   "display_name": "Python 3 (ipykernel)",
   "language": "python",
   "name": "python3"
  },
  "language_info": {
   "codemirror_mode": {
    "name": "ipython",
    "version": 3
   },
   "file_extension": ".py",
   "mimetype": "text/x-python",
   "name": "python",
   "nbconvert_exporter": "python",
   "pygments_lexer": "ipython3",
   "version": "3.9.7"
  }
 },
 "nbformat": 4,
 "nbformat_minor": 5
}
